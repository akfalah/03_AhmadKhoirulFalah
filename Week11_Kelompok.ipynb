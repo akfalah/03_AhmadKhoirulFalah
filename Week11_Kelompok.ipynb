{
  "nbformat": 4,
  "nbformat_minor": 0,
  "metadata": {
    "colab": {
      "provenance": [],
      "authorship_tag": "ABX9TyOjQCUvBv+9u1YTe860oe+V",
      "include_colab_link": true
    },
    "kernelspec": {
      "name": "python3",
      "display_name": "Python 3"
    },
    "language_info": {
      "name": "python"
    }
  },
  "cells": [
    {
      "cell_type": "markdown",
      "metadata": {
        "id": "view-in-github",
        "colab_type": "text"
      },
      "source": [
        "<a href=\"https://colab.research.google.com/github/akfalah/03_AhmadKhoirulFalah/blob/main/Week11_Kelompok.ipynb\" target=\"_parent\"><img src=\"https://colab.research.google.com/assets/colab-badge.svg\" alt=\"Open In Colab\"/></a>"
      ]
    },
    {
      "cell_type": "code",
      "execution_count": null,
      "metadata": {
        "id": "PPH6vZsC_ltC"
      },
      "outputs": [],
      "source": [
        "import cv2\n",
        "ktpMaftuchin = cv2.imread('/content/drive/MyDrive/KTP/maftuchin.jpg')\n",
        "ori = cv.cvtColor(ktpMaftuchin.copy(), cv.COLOR_BGR2RGB)\n",
        "\n",
        "# Gaussian Blur untuk mengurangi noise\n",
        "blurred = cv.GaussianBlur(ktpMaftuchin, (5, 5), 0.5)\n",
        "\n",
        "# Konversi ke citra grayscale\n",
        "gray = cv.cvtColor(blurred, cv.COLOR_BGR2GRAY)\n",
        "\n",
        "# Binerisasi dengan metode Otsu\n",
        "ret, bw = cv.threshold(gray.copy(), 0, 255, cv.THRESH_BINARY + cv.THRESH_OTSU)\n",
        "\n",
        "# Erosi setelah operasi binerisasi\n",
        "erode = cv.erode(bw.copy(), cv.getStructuringElement(cv.MORPH_OPEN, (1, 1)))\n",
        "\n",
        "# Ekstraksi kontur\n",
        "contours, hierarchy = cv.findContours(erode.copy(), cv.RETR_TREE, cv.CHAIN_APPROX_NONE)\n",
        "\n",
        "# Looping kontur untuk pemilihan berdasarkan ukuran dan rasio\n",
        "for cnt in contours:\n",
        "    x, y, w, h = cv.boundingRect(cnt)\n",
        "    ras = format(w / h, '.2f')\n",
        "    if h >= 40 and w >= 10 and float(ras) <= 1:\n",
        "        cv.rectangle(ktpMaftuchin, (x, y), (x + w, y + h), (0, 0, 255), thickness=1)\n",
        "    elif h >= 8 and w >= 8 and float(ras) <= 10:\n",
        "        cv.rectangle(ktpMaftuchin, (x, y), (x + w, y + h), (0, 0, 255), thickness=1)\n",
        "    elif h >= 10 and w >= 7 and float(ras) <= 8:\n",
        "        cv.rectangle(ktpMaftuchin, (x, y), (x + w, y + h), (0, 0, 255), thickness=1)\n",
        "\n",
        "# Menampilkan gambar matplotlib\n",
        "plt.subplots(1)\n",
        "plt.title(\"Gambar Original\")\n",
        "plt.imshow(ori)\n",
        "\n",
        "fig, axs = plt.subplots(1, 2, figsize=(10, 5))\n",
        "\n",
        "axs[0].set_title('Hasil Binerisasi')\n",
        "axs[0].imshow(bw, cmap='gray')\n",
        "\n",
        "axs[1].set_title('Hasil Erosi')\n",
        "axs[1].imshow(erode, cmap='gray')\n",
        "\n",
        "fig1, axs1 = plt.subplots(figsize=(10, 5))\n",
        "axs1.set_title('Hasil Akhir')\n",
        "axs1.imshow(cv.cvtColor(ktpMaftuchin, cv.COLOR_BGR2RGB))\n",
        "\n",
        "plt.show()"
      ]
    }
  ]
}